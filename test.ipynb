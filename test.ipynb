{
 "cells": [
  {
   "cell_type": "code",
   "execution_count": 1,
   "id": "51593fca",
   "metadata": {},
   "outputs": [],
   "source": [
    "# import all the libraries needed\n",
    "\n",
    "import warnings\n",
    "warnings.filterwarnings('ignore')\n",
    "\n",
    "import pickle\n",
    "\n",
    "import numpy as np\n",
    "from numpy.linalg import norm\n",
    "\n",
    "import tensorflow\n",
    "from tensorflow.keras.applications.resnet50 import ResNet50\n",
    "from tensorflow.keras.layers import GlobalMaxPooling2D\n",
    "from tensorflow.keras.preprocessing import image\n",
    "from tensorflow.keras.applications.resnet50 import preprocess_input\n",
    "from sklearn.neighbors import NearestNeighbors\n",
    "\n",
    "import cv2"
   ]
  },
  {
   "cell_type": "code",
   "execution_count": 2,
   "id": "f8d5bbd3",
   "metadata": {},
   "outputs": [],
   "source": [
    "# read pickle files\n",
    "\n",
    "features_list = pickle.load(open('images_features_list.pkl', 'rb'))\n",
    "images_fils = pickle.load(open('images_fils.pkl', 'rb'))"
   ]
  },
  {
   "cell_type": "code",
   "execution_count": 3,
   "id": "51961e16",
   "metadata": {},
   "outputs": [
    {
     "name": "stdout",
     "output_type": "stream",
     "text": [
      "(9993, 2048)\n"
     ]
    }
   ],
   "source": [
    "# print shape of features_list\n",
    "\n",
    "print(np.array(features_list).shape)"
   ]
  },
  {
   "cell_type": "code",
   "execution_count": 4,
   "id": "785d6e0e",
   "metadata": {},
   "outputs": [],
   "source": [
    "# create resnet50 model\n",
    "\n",
    "model = ResNet50(weights = 'imagenet', include_top = False, input_shape = (224, 224, 3))\n",
    "model.trainable = False"
   ]
  },
  {
   "cell_type": "code",
   "execution_count": 5,
   "id": "eb53d598",
   "metadata": {},
   "outputs": [
    {
     "name": "stdout",
     "output_type": "stream",
     "text": [
      "Model: \"sequential\"\n",
      "_________________________________________________________________\n",
      " Layer (type)                Output Shape              Param #   \n",
      "=================================================================\n",
      " resnet50 (Functional)       (None, 7, 7, 2048)        23587712  \n",
      "                                                                 \n",
      " global_max_pooling2d (Globa  (None, 2048)             0         \n",
      " lMaxPooling2D)                                                  \n",
      "                                                                 \n",
      "=================================================================\n",
      "Total params: 23,587,712\n",
      "Trainable params: 0\n",
      "Non-trainable params: 23,587,712\n",
      "_________________________________________________________________\n"
     ]
    }
   ],
   "source": [
    "model = tensorflow.keras.Sequential([model, GlobalMaxPooling2D()])\n",
    "\n",
    "# model.summary()"
   ]
  },
  {
   "cell_type": "code",
   "execution_count": 6,
   "id": "28777764",
   "metadata": {},
   "outputs": [
    {
     "name": "stdout",
     "output_type": "stream",
     "text": [
      "1/1 [==============================] - 1s 1s/step\n"
     ]
    }
   ],
   "source": [
    "# load sample image and extract features\n",
    "\n",
    "load_image = image.load_img('sample/57064.jpg', target_size = (224, 224))\n",
    "image_array = image.img_to_array(load_image)\n",
    "expanded_image_array = np.expand_dims(image_array, axis = 0)\n",
    "preprocess_image = preprocess_input(expanded_image_array)\n",
    "result_to_resnet = model.predict(preprocess_image)\n",
    "result = result_to_resnet.flatten()"
   ]
  },
  {
   "cell_type": "code",
   "execution_count": 7,
   "id": "0818b962",
   "metadata": {},
   "outputs": [],
   "source": [
    "# normalizing\n",
    "\n",
    "normalized_result = result / norm(result)"
   ]
  },
  {
   "cell_type": "code",
   "execution_count": 8,
   "id": "d2081280",
   "metadata": {},
   "outputs": [
    {
     "name": "stdout",
     "output_type": "stream",
     "text": [
      "[[9898   32 8232 5398  116]]\n"
     ]
    }
   ],
   "source": [
    "# make a features list tree\n",
    "\n",
    "neighbors = NearestNeighbors(n_neighbors = 5, algorithm = 'brute', metric = 'euclidean')\n",
    "neighbors.fit(features_list)\n",
    "\n",
    "distances, indices = neighbors.kneighbors([normalized_result])\n",
    "\n",
    "print(indices)"
   ]
  },
  {
   "cell_type": "code",
   "execution_count": 9,
   "id": "8ad5d862",
   "metadata": {},
   "outputs": [
    {
     "name": "stdout",
     "output_type": "stream",
     "text": [
      "images\\1165.jpg\n",
      "images\\33967.jpg\n",
      "images\\27874.jpg\n",
      "images\\12139.jpg\n"
     ]
    }
   ],
   "source": [
    "# shows the images\n",
    "\n",
    "for file in indices[0][1:6]:\n",
    "    print(images_fils[file])\n",
    "    tmp_img = cv2.imread(images_fils[file])\n",
    "    resize_img = cv2.resize(tmp_img, (512, 512))\n",
    "    cv2.imshow('Output', resize_img)\n",
    "    cv2.waitKey(0)"
   ]
  },
  {
   "cell_type": "code",
   "execution_count": null,
   "id": "78b8e795",
   "metadata": {},
   "outputs": [],
   "source": []
  }
 ],
 "metadata": {
  "kernelspec": {
   "display_name": "Python 3 (ipykernel)",
   "language": "python",
   "name": "python3"
  },
  "language_info": {
   "codemirror_mode": {
    "name": "ipython",
    "version": 3
   },
   "file_extension": ".py",
   "mimetype": "text/x-python",
   "name": "python",
   "nbconvert_exporter": "python",
   "pygments_lexer": "ipython3",
   "version": "3.10.9"
  }
 },
 "nbformat": 4,
 "nbformat_minor": 5
}
